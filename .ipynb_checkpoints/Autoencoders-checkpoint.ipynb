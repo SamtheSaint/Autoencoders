{
 "cells": [
  {
   "cell_type": "markdown",
   "metadata": {},
   "source": [
    "# Introduction to Autoencoders"
   ]
  },
  {
   "cell_type": "code",
   "execution_count": 1,
   "metadata": {},
   "outputs": [],
   "source": [
    "## All requirements for this notebook\n",
    "import torch\n",
    "import torch.nn as nn\n",
    "import torch.nn.functional as F\n",
    "import torchvision\n",
    "import matplotlib.pyplot as plt\n",
    "import numpy as np\n",
    "\n",
    "\n",
    "SEED = 5000\n",
    "torch.manual_seed(SEED)\n",
    "device = torch.device('cuda' if torch.cuda.is_available() else 'cpu')"
   ]
  },
  {
   "cell_type": "code",
   "execution_count": 2,
   "metadata": {},
   "outputs": [],
   "source": [
    "## We will be using popular MNIST dataset\n",
    "train_data = torchvision.datasets.MNIST(root='MNIST-data', \n",
    "                                        transform=torchvision.transforms.ToTensor(),\n",
    "                                        train=True,\n",
    "                                        download=True\n",
    "                                       )\n",
    "test_data = torchvision.datasets.MNIST(root='MNIST-data', \n",
    "                                        transform=torchvision.transforms.ToTensor(),\n",
    "                                        train=False\n",
    "                                       )"
   ]
  },
  {
   "cell_type": "code",
   "execution_count": 3,
   "metadata": {},
   "outputs": [
    {
     "name": "stdout",
     "output_type": "stream",
     "text": [
      "Shape of MNIST Dataset: torch.Size([60000, 28, 28])\n"
     ]
    },
    {
     "data": {
      "image/png": "[encoded data removed]",
      "text/plain": [
       "<Figure size 432x288 with 1 Axes>"
      ]
     },
     "metadata": {
      "needs_background": "light"
     },
     "output_type": "display_data"
    },
    {
     "name": "stdout",
     "output_type": "stream",
     "text": [
      "Shape of Image: torch.Size([28, 28])\n",
      "Max Element:  tensor(1.)\n",
      "Min Element:  tensor(0.)\n"
     ]
    }
   ],
   "source": [
    "##What are we working with and what will we be doing\n",
    "print(f\"Shape of MNIST Dataset: {train_data.data.shape}\")\n",
    "rdm_img = train_data.data[np.random.randint(0,100)] / 255.0# get a random example\n",
    "plt.imshow(rdm_img.numpy(), cmap=\"gray\")\n",
    "plt.show()\n",
    "print(f\"Shape of Image: {rdm_img.shape}\")\n",
    "print(\"Max Element: \", rdm_img.max())\n",
    "print(\"Min Element: \", rdm_img.min())"
   ]
  },
  {
   "cell_type": "code",
   "execution_count": 4,
   "metadata": {},
   "outputs": [],
   "source": [
    "def add_noise(clean_image, noise_factor):\n",
    "    noisy_image = clean_image + noise_factor * torch.randn_like(clean_image)\n",
    "    noisy_image = torch.clamp(noisy_image, 0.0, 1.0).double()\n",
    "    return noisy_image\n",
    "\n",
    "def show_image_helper(image):\n",
    "    image = image.view(28, 28)\n",
    "    plt.imshow(image.cpu().detach(), cmap=\"gray\")\n",
    "    plt.show()\n",
    "    print(\"Max Element: \", rdm_img.max())\n",
    "    print(\"Min Element: \", rdm_img.min())"
   ]
  },
  {
   "cell_type": "code",
   "execution_count": 5,
   "metadata": {},
   "outputs": [
    {
     "data": {
      "image/png": "[encoded data removed]",
      "text/plain": [
       "<Figure size 432x288 with 1 Axes>"
      ]
     },
     "metadata": {
      "needs_background": "light"
     },
     "output_type": "display_data"
    },
    {
     "name": "stdout",
     "output_type": "stream",
     "text": [
      "Max Element:  tensor(1.)\n",
      "Min Element:  tensor(0.)\n"
     ]
    }
   ],
   "source": [
    "## want to add noise to image and still be able to reconstruct image using autoencoder\n",
    "## Adding noise to image\n",
    "rdm_img_noisy = add_noise(rdm_img, 0.50)\n",
    "show_image_helper(rdm_img_noisy)"
   ]
  },
  {
   "cell_type": "code",
   "execution_count": 6,
   "metadata": {},
   "outputs": [],
   "source": [
    "# FURTHER SPLIT THE TRAINING INTO TRAINING AND VALIDATION\n",
    "train_data, val_data = torch.utils.data.random_split(train_data, [50000, 10000])\n",
    "\n",
    "BATCH_SIZE = 1024\n",
    "\n",
    "# MAKE TRAINING DATALOADER\n",
    "train_loader = torch.utils.data.DataLoader( # create a data loader\n",
    "    train_data, # what dataset should it sample from?\n",
    "    shuffle=True, # should it shuffle the examples?\n",
    "    batch_size=BATCH_SIZE # how large should the batches that it samples be?\n",
    ")\n",
    "\n",
    "# MAKE VALIDATION DATALOADER\n",
    "val_loader = torch.utils.data.DataLoader(\n",
    "    val_data,\n",
    "    shuffle=True,\n",
    "    batch_size=BATCH_SIZE\n",
    ")\n",
    "\n",
    "# MAKE TEST DATALOADER\n",
    "test_loader = torch.utils.data.DataLoader(\n",
    "    test_data,\n",
    "    shuffle=True,\n",
    "    batch_size=BATCH_SIZE\n",
    ")"
   ]
  },
  {
   "cell_type": "code",
   "execution_count": 7,
   "metadata": {},
   "outputs": [],
   "source": [
    "class AutoEncoder(nn.Module):\n",
    "    def __init__(self, input_dim, hidden_dim):\n",
    "        super().__init__()\n",
    "        self.input_dim = input_dim\n",
    "        self.input_layer = nn.Linear(input_dim, hidden_dim)\n",
    "        self.hidden = nn.Linear(hidden_dim, input_dim)\n",
    "    \n",
    "    def forward(self, x):\n",
    "        x = self.input_layer(x)\n",
    "        x = F.relu(x)\n",
    "        x = self.hidden(x)\n",
    "        x = torch.sigmoid(x)\n",
    "        return x      "
   ]
  },
  {
   "cell_type": "code",
   "execution_count": 8,
   "metadata": {},
   "outputs": [],
   "source": [
    "def train(model, epochs=10, learning_rate=0.001, noise_factor = 0.50):\n",
    "    model.train()\n",
    "    optimiser = torch.optim.Adam(model.parameters(), lr = learning_rate)\n",
    "    criterion = torch.nn.BCELoss()\n",
    "    \n",
    "    for epoch in range(epochs):\n",
    "        total_loss = 0\n",
    "        num_batches = 0\n",
    "        for idx, batch in enumerate(train_loader):\n",
    "            clean_image, _ = batch ##don't need the label for Autoencoder training\n",
    "            clean_image = clean_image.to(device)\n",
    "            clean_image = clean_image.view(-1, 784) / 255.0\n",
    "            noisy_image = add_noise(clean_image, noise_factor)\n",
    "            generated_image = model(noisy_image)\n",
    "            loss = criterion(generated_image.double(), clean_image.double())\n",
    "#             print(f\"Epoch: {epoch}\\tBatch: {idx}\\tLoss: {loss}\")\n",
    "            total_loss += loss\n",
    "            num_batches += 1\n",
    "            optimiser.zero_grad() ##zero out previous gradient map\n",
    "            loss.backward() ## backpropagate\n",
    "            optimiser.step()\n",
    "        average_loss = total_loss / num_batches\n",
    "        print(f\"Epoch {epoch}:\\tScore: {1/average_loss}\")"
   ]
  },
  {
   "cell_type": "code",
   "execution_count": 9,
   "metadata": {},
   "outputs": [],
   "source": [
    "INPUT_DIM = 28*28\n",
    "HIDDEN_DIM = 32\n",
    "EPOCHS = 10\n",
    "LEARNING_RATE = 0.001\n",
    "NOISE_FACTOR = 0.0\n",
    "\n",
    "\n",
    "my_autoencoder = AutoEncoder(INPUT_DIM, HIDDEN_DIM).double().to(device)"
   ]
  },
  {
   "cell_type": "code",
   "execution_count": 10,
   "metadata": {},
   "outputs": [
    {
     "name": "stdout",
     "output_type": "stream",
     "text": [
      "Epoch 0:\tScore: 1.5090283629558068\n",
      "Epoch 1:\tScore: 1.8665832089074612\n",
      "Epoch 2:\tScore: 2.8948435776622334\n",
      "Epoch 3:\tScore: 5.211142061649698\n",
      "Epoch 4:\tScore: 9.345774215158073\n",
      "Epoch 5:\tScore: 15.347347915558172\n",
      "Epoch 6:\tScore: 22.96020779591647\n",
      "Epoch 7:\tScore: 31.865733086339258\n",
      "Epoch 8:\tScore: 41.74953368231561\n",
      "Epoch 9:\tScore: 52.30370529998528\n"
     ]
    }
   ],
   "source": [
    "train(my_autoencoder, EPOCHS, LEARNING_RATE, NOISE_FACTOR)"
   ]
  },
  {
   "cell_type": "code",
   "execution_count": 17,
   "metadata": {},
   "outputs": [],
   "source": [
    "def validate(model, display_image=True):\n",
    "    criterion = torch.nn.BCELoss()\n",
    "    total_loss = 0\n",
    "    num_batches = 0\n",
    "    for val_image, _ in train_loader:\n",
    "        val_image = val_image.to(device)\n",
    "        val_image = val_image.view(-1, 784) / 255.0\n",
    "        noisy_image = add_noise(val_image, NOISE_FACTOR)\n",
    "        generated_image = model(noisy_image)\n",
    "        if display_image:\n",
    "            img_idx = np.random.randint(BATCH_SIZE)\n",
    "            print(\"Noisy Image\")\n",
    "            show_image_helper(noisy_image[img_idx])\n",
    "            print(\"Generated Image\")\n",
    "            show_image_helper(generated_image[img_idx])\n",
    "            print(\"Clean Image\")\n",
    "            show_image_helper(val_image[img_idx])\n",
    "            print(1/criterion(generated_image.double(), val_image.double()).item())\n",
    "            return\n",
    "        loss = criterion(generated_image.double(), val_image.double())\n",
    "        total_loss += loss\n",
    "        num_batches +=1\n",
    "    average_loss = total_loss / num_batches\n",
    "    return 1/average_loss.item()"
   ]
  },
  {
   "cell_type": "code",
   "execution_count": 19,
   "metadata": {},
   "outputs": [
    {
     "name": "stdout",
     "output_type": "stream",
     "text": [
      "Noisy Image\n"
     ]
    },
    {
     "data": {
      "image/png": "[encoded data removed]",
      "text/plain": [
       "<Figure size 432x288 with 1 Axes>"
      ]
     },
     "metadata": {
      "needs_background": "light"
     },
     "output_type": "display_data"
    },
    {
     "name": "stdout",
     "output_type": "stream",
     "text": [
      "Max Element:  tensor(1.)\n",
      "Min Element:  tensor(0.)\n",
      "Generated Image\n"
     ]
    },
    {
     "data": {
      "image/png": "[encoded data removed]",
      "text/plain": [
       "<Figure size 432x288 with 1 Axes>"
      ]
     },
     "metadata": {
      "needs_background": "light"
     },
     "output_type": "display_data"
    },
    {
     "name": "stdout",
     "output_type": "stream",
     "text": [
      "Max Element:  tensor(1.)\n",
      "Min Element:  tensor(0.)\n",
      "Clean Image\n"
     ]
    },
    {
     "data": {
      "image/png": "[encoded data removed]",
      "text/plain": [
       "<Figure size 432x288 with 1 Axes>"
      ]
     },
     "metadata": {
      "needs_background": "light"
     },
     "output_type": "display_data"
    },
    {
     "name": "stdout",
     "output_type": "stream",
     "text": [
      "Max Element:  tensor(1.)\n",
      "Min Element:  tensor(0.)\n",
      "57.13918824466143\n",
      "Score:  None\n"
     ]
    }
   ],
   "source": [
    "DISPLAY_IMAGES = True\n",
    "score = validate(my_autoencoder, DISPLAY_IMAGES)\n",
    "print(\"Score: \", score)"
   ]
  },
  {
   "cell_type": "markdown",
   "metadata": {},
   "source": [
    "# Improvements on Vanilla Autoencoder"
   ]
  },
  {
   "cell_type": "code",
   "execution_count": 13,
   "metadata": {},
   "outputs": [],
   "source": [
    "class AutoEncoder2(nn.Module):\n",
    "    def __init__(self, input_dim, hidden_dim):\n",
    "        super().__init__()\n",
    "        self.input_dim = input_dim\n",
    "        self.hidden_dim = hidden_dim\n",
    "        self.input_layer = nn.Linear(input_dim, hidden_dim[0])\n",
    "        self.output_layer = nn.Linear(hidden_dim[-1], input_dim)\n",
    "                         \n",
    "    def forward(self, x):\n",
    "        x = self.input_layer(x)\n",
    "        x = F.relu(x)\n",
    "        for i in range(len(self.hidden_dim)-1):\n",
    "            hidden_layer = nn.Linear(self.hidden_dim[i], self.hidden_dim[i+1]).double().to(device)\n",
    "            x = hidden_layer(x)\n",
    "            x = F.relu(x)\n",
    "        x = self.output_layer(x)\n",
    "        x = torch.sigmoid(x)\n",
    "        return x"
   ]
  },
  {
   "cell_type": "code",
   "execution_count": 14,
   "metadata": {},
   "outputs": [],
   "source": [
    "INPUT_DIM = 28*28\n",
    "HIDDEN_DIM = [128, 32, 128]\n",
    "EPOCHS = 10\n",
    "LEARNING_RATE = 0.001\n",
    "NOISE_FACTOR = 0.0\n",
    "\n",
    "my_autoencoder2 = AutoEncoder2(INPUT_DIM, HIDDEN_DIM).double().to(device)"
   ]
  },
  {
   "cell_type": "code",
   "execution_count": 15,
   "metadata": {},
   "outputs": [
    {
     "name": "stdout",
     "output_type": "stream",
     "text": [
      "Epoch 0:\tScore: 1.553911284734684\n",
      "Epoch 1:\tScore: 1.8093997797417936\n",
      "Epoch 2:\tScore: 2.133737536107283\n",
      "Epoch 3:\tScore: 2.492863846674663\n",
      "Epoch 4:\tScore: 2.8721390090659265\n",
      "Epoch 5:\tScore: 3.2128740405173737\n",
      "Epoch 6:\tScore: 3.697762621343791\n",
      "Epoch 7:\tScore: 4.290872732273733\n",
      "Epoch 8:\tScore: 4.84029863727933\n",
      "Epoch 9:\tScore: 5.447987377258737\n"
     ]
    }
   ],
   "source": [
    "train(my_autoencoder2, EPOCHS, LEARNING_RATE, NOISE_FACTOR)"
   ]
  },
  {
   "cell_type": "code",
   "execution_count": 16,
   "metadata": {},
   "outputs": [
    {
     "name": "stdout",
     "output_type": "stream",
     "text": [
      "Noisy Image\n"
     ]
    },
    {
     "data": {
      "image/png": "[encoded data removed]",
      "text/plain": [
       "<Figure size 432x288 with 1 Axes>"
      ]
     },
     "metadata": {
      "needs_background": "light"
     },
     "output_type": "display_data"
    },
    {
     "name": "stdout",
     "output_type": "stream",
     "text": [
      "Max Element:  tensor(1.)\n",
      "Min Element:  tensor(0.)\n",
      "Generated Image\n"
     ]
    },
    {
     "data": {
      "image/png": "[encoded data removed]",
      "text/plain": [
       "<Figure size 432x288 with 1 Axes>"
      ]
     },
     "metadata": {
      "needs_background": "light"
     },
     "output_type": "display_data"
    },
    {
     "name": "stdout",
     "output_type": "stream",
     "text": [
      "Max Element:  tensor(1.)\n",
      "Min Element:  tensor(0.)\n",
      "Clean Image\n"
     ]
    },
    {
     "data": {
      "image/png": "[encoded data removed]",
      "text/plain": [
       "<Figure size 432x288 with 1 Axes>"
      ]
     },
     "metadata": {
      "needs_background": "light"
     },
     "output_type": "display_data"
    },
    {
     "name": "stdout",
     "output_type": "stream",
     "text": [
      "Max Element:  tensor(1.)\n",
      "Min Element:  tensor(0.)\n",
      "5.7977156355104755\n",
      "Score:  None\n"
     ]
    }
   ],
   "source": [
    "DISPLAY_IMAGES = True\n",
    "score = validate(my_autoencoder2, DISPLAY_IMAGES)\n",
    "print(\"Score: \", score)"
   ]
  }
 ],
 "metadata": {
  "kernelspec": {
   "display_name": "Python 3",
   "language": "python",
   "name": "python3"
  },
  "language_info": {
   "codemirror_mode": {
    "name": "ipython",
    "version": 3
   },
   "file_extension": ".py",
   "mimetype": "text/x-python",
   "name": "python",
   "nbconvert_exporter": "python",
   "pygments_lexer": "ipython3",
   "version": "3.8.2"
  }
 },
 "nbformat": 4,
 "nbformat_minor": 4
}
