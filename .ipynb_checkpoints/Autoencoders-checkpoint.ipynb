{
 "cells": [
  {
   "cell_type": "markdown",
   "metadata": {},
   "source": [
    "# Introduction to Autoencoders"
   ]
  },
  {
   "cell_type": "code",
   "execution_count": 1,
   "metadata": {},
   "outputs": [],
   "source": [
    "## All requirements for this notebook\n",
    "import torch\n",
    "import torch.nn as nn\n",
    "import torch.nn.functional as F\n",
    "import torchvision\n",
    "import matplotlib.pyplot as plt\n",
    "import numpy as np\n",
    "\n",
    "\n",
    "SEED = 5000\n",
    "torch.manual_seed(SEED)\n",
    "device = torch.device('cuda' if torch.cuda.is_available() else 'cpu')"
   ]
  },
  {
   "cell_type": "code",
   "execution_count": 63,
   "metadata": {},
   "outputs": [],
   "source": [
    "## We will be using popular MNIST dataset\n",
    "train_data = torchvision.datasets.MNIST(root='MNIST-data', \n",
    "                                        transform=torchvision.transforms.ToTensor(),\n",
    "                                        train=True,\n",
    "                                        download=True\n",
    "                                       )\n",
    "test_data = torchvision.datasets.MNIST(root='MNIST-data', \n",
    "                                        transform=torchvision.transforms.ToTensor(),\n",
    "                                        train=False\n",
    "                                       )"
   ]
  },
  {
   "cell_type": "code",
   "execution_count": 66,
   "metadata": {},
   "outputs": [],
   "source": [
    "def show_image_helper(image):\n",
    "    image = image.view(28, 28)\n",
    "    plt.imshow(image.cpu().detach(), cmap=\"gray\")\n",
    "    plt.show()\n",
    "    print(\"Max Element: \", rdm_img.max())\n",
    "    print(\"Min Element: \", rdm_img.min())"
   ]
  },
  {
   "cell_type": "code",
   "execution_count": 68,
   "metadata": {},
   "outputs": [
    {
     "name": "stdout",
     "output_type": "stream",
     "text": [
      "Shape of MNIST Dataset: torch.Size([60000, 28, 28])\n"
     ]
    },
    {
     "data": {
      "image/png": "[encoded data removed]",
      "text/plain": [
       "<Figure size 432x288 with 1 Axes>"
      ]
     },
     "metadata": {
      "needs_background": "light"
     },
     "output_type": "display_data"
    },
    {
     "name": "stdout",
     "output_type": "stream",
     "text": [
      "Max Element:  tensor(1.)\n",
      "Min Element:  tensor(0.)\n",
      "Shape of Image: torch.Size([28, 28])\n"
     ]
    }
   ],
   "source": [
    "##What are we working with and what will we be doing\n",
    "print(f\"Shape of MNIST Dataset: {train_data.data.shape}\")\n",
    "rdm_img = train_data.data[np.random.randint(0,100)] / 255.0# get a random example\n",
    "show_image_helper(rdm_img)\n",
    "print(f\"Shape of Image: {rdm_img.shape}\")"
   ]
  },
  {
   "cell_type": "code",
   "execution_count": 69,
   "metadata": {},
   "outputs": [],
   "source": [
    "# FURTHER SPLIT THE TRAINING INTO TRAINING AND VALIDATION\n",
    "train_data, val_data = torch.utils.data.random_split(train_data, [50000, 10000])\n",
    "\n",
    "BATCH_SIZE = 512\n",
    "\n",
    "# MAKE TRAINING DATALOADER\n",
    "train_loader = torch.utils.data.DataLoader( # create a data loader\n",
    "    train_data, # what dataset should it sample from?\n",
    "    shuffle=True, # should it shuffle the examples?\n",
    "    batch_size=BATCH_SIZE # how large should the batches that it samples be?\n",
    ")\n",
    "\n",
    "# MAKE VALIDATION DATALOADER\n",
    "val_loader = torch.utils.data.DataLoader(\n",
    "    val_data,\n",
    "    shuffle=True,\n",
    "    batch_size=BATCH_SIZE\n",
    ")\n",
    "\n",
    "# MAKE TEST DATALOADER\n",
    "test_loader = torch.utils.data.DataLoader(\n",
    "    test_data,\n",
    "    shuffle=True,\n",
    "    batch_size=BATCH_SIZE\n",
    ")"
   ]
  },
  {
   "cell_type": "code",
   "execution_count": 7,
   "metadata": {},
   "outputs": [],
   "source": [
    "class AutoEncoder(nn.Module):\n",
    "    def __init__(self, input_dim, hidden_dims):\n",
    "        super().__init__()\n",
    "        self.input_dim = input_dim\n",
    "        self.hidden_dims = hidden_dims\n",
    "        self.input_layer = nn.Linear(input_dim, hidden_dims[0])\n",
    "        self.output_layer = nn.Linear(hidden_dims[-1], input_dim)\n",
    "        self.hidden_layers = nn.ModuleList()\n",
    "        for i in range(len(self.hidden_dims) -1):\n",
    "            self.hidden_layers.append(nn.Linear(self.hidden_dims[i], self.hidden_dims[i+1]))\n",
    "    \n",
    "    def forward(self, x):\n",
    "        x = self.input_layer(x)\n",
    "        x = torch.relu(x)\n",
    "        for hidden_layer in self.hidden_layers:\n",
    "            x = hidden_layer(x)\n",
    "            x = torch.relu(x)\n",
    "        x = self.output_layer(x)\n",
    "        x = torch.sigmoid(x)\n",
    "        return x      "
   ]
  },
  {
   "cell_type": "code",
   "execution_count": 82,
   "metadata": {},
   "outputs": [],
   "source": [
    "def train(model, epochs=10, learning_rate=0.001):\n",
    "    model.train()\n",
    "    optimiser = torch.optim.Adam(model.parameters(), lr = learning_rate)\n",
    "    criterion = torch.nn.BCELoss()\n",
    "    \n",
    "    for epoch in range(epochs):\n",
    "        total_loss = 0\n",
    "        num_batches = 0\n",
    "        for idx, batch in enumerate(train_loader):\n",
    "            optimiser.zero_grad() ##zero out previous gradient map\n",
    "\n",
    "            org_img, _ = batch ##don't need the label for Autoencoder training\n",
    "            org_img = org_img.view(-1, 784).to(device) / 255.0\n",
    "            org_img = org_img.double()\n",
    "            gen_img = model(org_img)\n",
    "            loss = criterion(gen_img.double(), org_img)\n",
    "#             print(f\"Epoch: {epoch}\\tBatch: {idx}\\tLoss: {loss}\")\n",
    "            total_loss += loss\n",
    "            num_batches += 1\n",
    "            loss.backward() ## backpropagate\n",
    "            optimiser.step()\n",
    "        average_loss = total_loss / num_batches\n",
    "        print(f\"Epoch {epoch}:\\tScore: {1/average_loss}\")"
   ]
  },
  {
   "cell_type": "code",
   "execution_count": 83,
   "metadata": {},
   "outputs": [],
   "source": [
    "INPUT_DIM = 28*28\n",
    "HIDDEN_DIM = [128, 32, 128]\n",
    "EPOCHS = 50\n",
    "LEARNING_RATE = 0.01\n",
    "\n",
    "my_autoencoder = AutoEncoder(INPUT_DIM, HIDDEN_DIM).double().to(device)"
   ]
  },
  {
   "cell_type": "code",
   "execution_count": null,
   "metadata": {},
   "outputs": [],
   "source": [
    "train(my_autoencoder, EPOCHS, LEARNING_RATE)"
   ]
  },
  {
   "cell_type": "code",
   "execution_count": 89,
   "metadata": {},
   "outputs": [],
   "source": [
    "def validate(model, display_image=True):\n",
    "    criterion = torch.nn.BCELoss()\n",
    "    total_loss = 0\n",
    "    num_batches = 0\n",
    "    for val_img, _ in val_loader:\n",
    "        val_img = val_img.to(device).double()\n",
    "        val_img = val_img.view(-1, 784) / 255.0\n",
    "        gen_img = model(val_img)\n",
    "        if display_image:\n",
    "            img_idx = np.random.randint(BATCH_SIZE)\n",
    "            print(\"Generated Image\")\n",
    "            show_image_helper(gen_img[img_idx])\n",
    "            print(\"Clean Image\")\n",
    "            show_image_helper(val_img[img_idx])\n",
    "            print(1/criterion(gen_img.double(), val_img).item())\n",
    "            return\n",
    "        loss = criterion(gen_img.double(), val_img).item()\n",
    "        total_loss += loss\n",
    "        num_batches +=1\n",
    "    average_loss = total_loss / num_batches\n",
    "    return 1/average_loss.item()"
   ]
  },
  {
   "cell_type": "code",
   "execution_count": 101,
   "metadata": {},
   "outputs": [
    {
     "name": "stdout",
     "output_type": "stream",
     "text": [
      "Generated Image\n"
     ]
    },
    {
     "data": {
      "image/png": "[encoded data removed]",
      "text/plain": [
       "<Figure size 432x288 with 1 Axes>"
      ]
     },
     "metadata": {
      "needs_background": "light"
     },
     "output_type": "display_data"
    },
    {
     "name": "stdout",
     "output_type": "stream",
     "text": [
      "Max Element:  tensor(1.)\n",
      "Min Element:  tensor(0.)\n",
      "Clean Image\n"
     ]
    },
    {
     "data": {
      "image/png": "[encoded data removed]",
      "text/plain": [
       "<Figure size 432x288 with 1 Axes>"
      ]
     },
     "metadata": {
      "needs_background": "light"
     },
     "output_type": "display_data"
    },
    {
     "name": "stdout",
     "output_type": "stream",
     "text": [
      "Max Element:  tensor(1.)\n",
      "Min Element:  tensor(0.)\n",
      "277.58220584483814\n"
     ]
    }
   ],
   "source": [
    "DISPLAY_IMAGES = True\n",
    "score = validate(my_autoencoder, DISPLAY_IMAGES)\n",
    "if not DISPLAY_IMAGES: print(\"Score: \", score)"
   ]
  },
  {
   "cell_type": "markdown",
   "metadata": {},
   "source": [
    "# Application - Denoising an Image (CovNet)"
   ]
  },
  {
   "cell_type": "code",
   "execution_count": 104,
   "metadata": {},
   "outputs": [],
   "source": [
    "def add_noise(clean_image, noise_factor):\n",
    "    clean_image = clean_image.to(device)\n",
    "    noisy_image = clean_image + noise_factor * torch.as_tensor(np.random.standard_normal(clean_image.shape), device=device)\n",
    "    noisy_image = torch.clamp(noisy_image, 0.0, 1.0).double()\n",
    "    return noisy_image"
   ]
  },
  {
   "cell_type": "code",
   "execution_count": null,
   "metadata": {},
   "outputs": [],
   "source": [
    "class AutoEncoderCNN(nn.Module):\n",
    "    def __init__(self, input_dim, filter_dims, kernel_sizes, stride = 2):\n",
    "        super().__init__()\n",
    "        self.input_layer = nn.Conv2d(1, 32, 5, 2)\n",
    "        self.mid_input_later = nn.Conv2d(32, 64, 5, 2)\n",
    "        self.mid_output_layer = nn.Conv2d(64, 32, 5, 2)\n",
    "        self.output_layer = nn.Conv2d(32, 1, 5, 2)\n",
    "        self.hidden_layers = nn.ModuleList()\n",
    "    \n",
    "    def forward(self, x):\n",
    "        x = self.input_layer(x)\n",
    "        x = torch.relu(x)\n",
    "        for hidden_layer in self.hidden_layers:\n",
    "            x = hidden_layer(x)\n",
    "            x = torch.relu(x)\n",
    "        x = self.output_layer(x)\n",
    "        x = torch.sigmoid(x)\n",
    "        return x   "
   ]
  }
 ],
 "metadata": {
  "kernelspec": {
   "display_name": "Python 3",
   "language": "python",
   "name": "python3"
  },
  "language_info": {
   "codemirror_mode": {
    "name": "ipython",
    "version": 3
   },
   "file_extension": ".py",
   "mimetype": "text/x-python",
   "name": "python",
   "nbconvert_exporter": "python",
   "pygments_lexer": "ipython3",
   "version": "3.8.2"
  }
 },
 "nbformat": 4,
 "nbformat_minor": 4
}
